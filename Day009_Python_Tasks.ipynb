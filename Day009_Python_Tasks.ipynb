{
 "cells": [
  {
   "cell_type": "markdown",
   "id": "78c47990-6425-4fcb-9c60-56ae547427b0",
   "metadata": {},
   "source": [
    "# Task No. 1:\n",
    "Create a function which will take a list as an argument and return the product of all the number after creating a flat list. <br>\n",
    "Use the below-given list as an argument for your function.\n",
    "\n",
    "lst1 = [1,2,3,5,[44,55,66,True],False,(34,56,78,89,34),{1,2,3,3,2,1},{1:34,'key2':[55,67,78,89],4:(45,22,61,34)},[56,'data science'],'Machine Learning']\n",
    "\n",
    "**Note: You must extract numeric keys and values of the dictionary also.**"
   ]
  },
  {
   "cell_type": "markdown",
   "id": "e1e57f03-9d33-4be4-9733-5642660e4b85",
   "metadata": {},
   "source": [
    "## Answer"
   ]
  },
  {
   "cell_type": "code",
   "execution_count": 1,
   "id": "b0a736fe-3f34-40da-bef5-a08670010938",
   "metadata": {},
   "outputs": [],
   "source": [
    "def flat_func(given_collection):\n",
    "    flat_list=[]\n",
    "    for each_element in given_collection:\n",
    "        if type(each_element)==int or type(each_element)==float:\n",
    "            flat_list.append(each_element)\n",
    "        #elif type(each_element)==bool:\n",
    "         #   flat_list.append(int(each_element))\n",
    "        elif type(each_element)==list or type(each_element)==set or type(each_element)==tuple:\n",
    "            flat_list.extend(flat_func(each_element))\n",
    "        elif type(each_element)==dict:\n",
    "            for each_nested_element in each_element.keys():\n",
    "                if type(each_nested_element)==int or type(each_nested_element)==float:\n",
    "                    flat_list.append(each_nested_element)\n",
    "            for each_nested_element in each_element.values():\n",
    "                if type(each_nested_element)==int or type(each_nested_element)==float:\n",
    "                    flat_list.append(each_nested_element)\n",
    "                elif type(each_nested_element)==list or type(each_nested_element)==tuple or type(each_nested_element)==set:\n",
    "                    flat_list.extend(flat_func(each_nested_element))\n",
    "            \n",
    "    return flat_list"
   ]
  },
  {
   "cell_type": "code",
   "execution_count": 2,
   "id": "09920aaa-3bf7-4a69-a9a5-745acc6110d5",
   "metadata": {},
   "outputs": [
    {
     "name": "stdout",
     "output_type": "stream",
     "text": [
      "Flat List:  [1, 2, 3, 5, 44, 55, 66, 34, 56, 78, 89, 34, 1, 2, 3, 1, 4, 34, 55, 67, 78, 89, 45, 22, 61, 34, 56]\n",
      "Product of all the numbers:  5168389798733856848542301552640000\n"
     ]
    }
   ],
   "source": [
    "given_list = [1,2,3,5,[44,55,66,True],False,(34,56,78,89,34),{1,2,3,3,2,1},{1:34,'key2':[55,67,78,89],4:(45,22,61,34)},[56,'data science'],'Machine Learning']\n",
    "\n",
    "flat_list=flat_func(given_list)\n",
    "\n",
    "result = 1\n",
    "for each_element in flat_list:\n",
    "    result = result*each_element\n",
    "\n",
    "print('Flat List: ', flat_list)\n",
    "print('Product of all the numbers: ',result)"
   ]
  },
  {
   "cell_type": "markdown",
   "id": "cc853ff4-7c23-4403-a95f-cfe10713a97f",
   "metadata": {},
   "source": [
    "# Task No. 2:\n",
    "Write a Python program for encrypting a message sent to you by your friend. The logic of encryption should be such that, for a the output should be z. For b, the output should by y. For c, the output should be x repectively. Also, the whitespace should be replaced with a dollar sign. Keep the punctuation marks unchanged.\n",
    "\n",
    "Input Sentence: I want to become a Data Scientist.\n",
    "\n",
    "Encrypt the above input sentence using the program you just created.\n",
    "\n",
    "**Note: Convert the given input sentence into lowercase before encrypting. The final output should be lowercase.**"
   ]
  },
  {
   "cell_type": "code",
   "execution_count": null,
   "id": "22a4fa8d-0349-4f43-a566-2d44b514fc81",
   "metadata": {},
   "outputs": [],
   "source": [
    "sentence = \"i want to become a data scientist\"\n",
    "\n",
    "# create a translation table using maketrans\n",
    "trans_table = str.maketrans(\"iew\", \"zyg\")\n",
    "\n",
    "# use translate method to replace characters\n",
    "new_sentence = sentence.translate(trans_table)\n",
    "\n",
    "print(new_sentence)\n",
    "# Output: \"z wangt to bacomz a dagz scziantzst\""
   ]
  },
  {
   "cell_type": "code",
   "execution_count": 64,
   "id": "c34569c8-fbff-461d-89ef-e483b7a06b74",
   "metadata": {},
   "outputs": [
    {
     "data": {
      "text/plain": [
       "'r dzmg gl yvxlnv z wzgz hxrvmgrhg'"
      ]
     },
     "execution_count": 64,
     "metadata": {},
     "output_type": "execute_result"
    }
   ],
   "source": [
    "string = 'I want to become a Data Scientist'\n",
    "string = string.lower()\n",
    "\n",
    "trans_letters = str.maketrans('abcdefghijklmnopqrstuvwxyz','zyxwvutsrqponmlkjihgfedcba')\n",
    "\n",
    "encrypted_string = string.translate(trans_letters)\n",
    "encrypted_string"
   ]
  },
  {
   "cell_type": "code",
   "execution_count": 51,
   "id": "1c224efc-90fa-4b15-9014-dc7ed6326732",
   "metadata": {},
   "outputs": [
    {
     "name": "stdout",
     "output_type": "stream",
     "text": [
      "['a', 'b', 'c', 'd', 'e', 'f', 'g', 'h', 'i']\n",
      "['i', 'h', 'g', 'f', 'e', 'd', 'c', 'b', 'a']\n",
      "i want to become a data scientist\n"
     ]
    }
   ],
   "source": [
    "alphabets = ['a','b','c','d','e','f','g','h','i']\n",
    "encrypts = sorted(alphabets,reverse=True)\n",
    "sentence = 'I want to become a Data Scientist'.lower()\n",
    "\n",
    "print(alphabets)\n",
    "print(encrypts)\n",
    "print(sentence)"
   ]
  },
  {
   "cell_type": "code",
   "execution_count": 13,
   "id": "066ece06-1754-4653-8864-015adc777738",
   "metadata": {},
   "outputs": [
    {
     "data": {
      "text/plain": [
       "33"
      ]
     },
     "execution_count": 13,
     "metadata": {},
     "output_type": "execute_result"
    }
   ],
   "source": [
    "len(sentence)"
   ]
  },
  {
   "cell_type": "code",
   "execution_count": 15,
   "id": "4ea87c70-adcb-4ff5-aeb9-42d9b10be924",
   "metadata": {},
   "outputs": [
    {
     "data": {
      "text/plain": [
       "['i', 'a', 'b', 'e', 'c', 'e', 'a', 'd', 'a', 'a', 'c', 'i', 'e', 'i']"
      ]
     },
     "execution_count": 15,
     "metadata": {},
     "output_type": "execute_result"
    }
   ],
   "source": [
    "letters_in_text = []\n",
    "for i in range(len(sentence)):\n",
    "    store_letter = sentence[i]\n",
    "    if store_letter in alphabets:\n",
    "        letters_in_text.append(store_letter)\n",
    "\n",
    "letters_in_text"
   ]
  },
  {
   "cell_type": "code",
   "execution_count": 16,
   "id": "75e3aa0e-5799-49e4-a98b-8a8279d66b53",
   "metadata": {},
   "outputs": [
    {
     "data": {
      "text/plain": [
       "['p', 'w', 's', 'k', 'i', 'l', 'l', 's']"
      ]
     },
     "execution_count": 16,
     "metadata": {},
     "output_type": "execute_result"
    }
   ],
   "source": [
    "word = 'pwskills'\n",
    "\n",
    "[each_letter for each_letter in word]"
   ]
  },
  {
   "cell_type": "code",
   "execution_count": 21,
   "id": "93803f1d-d3b5-4afb-8547-07035828c58f",
   "metadata": {},
   "outputs": [
    {
     "data": {
      "text/plain": [
       "1"
      ]
     },
     "execution_count": 21,
     "metadata": {},
     "output_type": "execute_result"
    }
   ],
   "source": [
    "letters_in_text.index('a')"
   ]
  },
  {
   "cell_type": "code",
   "execution_count": 23,
   "id": "8488bfe2-9e87-4d35-a7e5-494881440d18",
   "metadata": {},
   "outputs": [
    {
     "data": {
      "text/plain": [
       "['i', 'a', 'b', 'e', 'c', 'e', 'a', 'd', 'a', 'a', 'c', 'i', 'e', 'i']"
      ]
     },
     "execution_count": 23,
     "metadata": {},
     "output_type": "execute_result"
    }
   ],
   "source": [
    "letters_in_text = []\n",
    "for i in range(len(sentence)):\n",
    "    store_letter = sentence[i]\n",
    "    if store_letter in alphabets:\n",
    "        letters_in_text.append(store_letter)\n",
    "\n",
    "letters_in_text"
   ]
  },
  {
   "cell_type": "code",
   "execution_count": 52,
   "id": "f8053485-d0d6-4ed3-8e25-341727c1a6f8",
   "metadata": {},
   "outputs": [
    {
     "name": "stdout",
     "output_type": "stream",
     "text": [
      "Original string: i want to become a data scientist\n",
      "Altered string: i wanO Oo become a daOa scienOisO\n"
     ]
    }
   ],
   "source": [
    "# multiple characters to be replace\n",
    "string = \"i want to become a data scientist\"\n",
    "# let's say we need to replace characters - 't', 'l', 'r'\n",
    "# creating a list for the characters to be replaced\n",
    "char_to_be_replaced= ['t', \"l\", \"r\"]\n",
    "replace_with = ['O','M','G']\n",
    "\n",
    "print(\"Original string: \" + string)\n",
    "# let's say we need to replace them with a special character '#'\n",
    "# Using the for loop for each character of char_remov\n",
    "\n",
    "for char in char_to_be_replaced:\n",
    "    # replace() \"returns\" an altered string\n",
    "    for i in range(len(replace_with)):\n",
    "        string = string.replace(char, replace_with[i])\n",
    "\n",
    "print(\"Altered string: \" + string)"
   ]
  },
  {
   "cell_type": "code",
   "execution_count": 56,
   "id": "cd55f35f-16d4-4701-a095-8cd1268ea30d",
   "metadata": {},
   "outputs": [
    {
     "name": "stdout",
     "output_type": "stream",
     "text": [
      "Original string: i want to become a data scientist\n",
      "Altered string: i damg gl beclme a daga hciemgihg\n"
     ]
    }
   ],
   "source": [
    "string = 'I want to become a Data Scientist'\n",
    "string = string.lower()\n",
    "\n",
    "char_to_be_replaced= ['a','b','c','d','e','f','g','h','i','j','k','l','m','n','o','p','q','r','s','t','u','v','w','x','y','z']\n",
    "replace_with = sorted(char_to_be_replaced,reverse=True)\n",
    "#replace_with = ['z', 'y', 'x', 'w', 'v', 'u', 't', 's', 'r', 'q', 'p', 'o', 'n', 'm', 'l', 'k', 'j', 'i', 'h', 'g', 'f', 'e', 'd', 'c', 'b', 'a']\n",
    "\n",
    "print(\"Original string: \" + string)\n",
    "i=0\n",
    "for char in char_to_be_replaced:\n",
    "    # replace() \"returns\" an altered string\n",
    "    #for i in range(len(replace_with)):\n",
    "        string = string.replace(char, replace_with[i])\n",
    "        i+=1\n",
    "\n",
    "print(\"Altered string: \" + string)"
   ]
  },
  {
   "cell_type": "code",
   "execution_count": null,
   "id": "345e279b-9a6b-4196-8128-855201ad975e",
   "metadata": {},
   "outputs": [],
   "source": [
    "string = 'I want to become a Data Scientist'\n",
    "string = string.lower()\n",
    "\n",
    "char_to_be_replaced= ['a','b','c','d','e','f','g','h','i','j','k','l','m','n','o','p','q','r','s','t','u','v','w','x','y','z']\n",
    "replace_with = ['z', 'y', 'x', 'w', 'v', 'u', 't', 's', 'r', 'q', 'p', 'o', 'n', 'm', 'l', 'k', 'j', 'i', 'h', 'g', 'f', 'e', 'd', 'c', 'b', 'a']\n",
    "\n",
    "print(\"Original string: \" + string)\n",
    "\n",
    "for char in char_to_be_replaced:\n",
    "    # replace() \"returns\" an altered string\n",
    "    for i in range(len(replace_with)):\n",
    "        string = string.replace(char, replace_with[i])\n",
    "\n",
    "print(\"Altered string: \" + string)"
   ]
  }
 ],
 "metadata": {
  "kernelspec": {
   "display_name": "Python 3 (ipykernel)",
   "language": "python",
   "name": "python3"
  },
  "language_info": {
   "codemirror_mode": {
    "name": "ipython",
    "version": 3
   },
   "file_extension": ".py",
   "mimetype": "text/x-python",
   "name": "python",
   "nbconvert_exporter": "python",
   "pygments_lexer": "ipython3",
   "version": "3.10.8"
  }
 },
 "nbformat": 4,
 "nbformat_minor": 5
}
