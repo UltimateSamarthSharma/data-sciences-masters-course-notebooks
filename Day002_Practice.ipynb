{
 "cells": [
  {
   "cell_type": "code",
   "execution_count": 1,
   "id": "b942d3e8-d468-4633-9c7a-784fe99ea6d1",
   "metadata": {},
   "outputs": [],
   "source": [
    "string1 = \"Python Programming\""
   ]
  },
  {
   "cell_type": "code",
   "execution_count": 5,
   "id": "0ca46406-fc3c-479a-b697-42d9af5f3a8c",
   "metadata": {},
   "outputs": [
    {
     "name": "stdout",
     "output_type": "stream",
     "text": [
      "Python\n",
      "I love Python\n"
     ]
    }
   ],
   "source": [
    "name = \"Python\"\n",
    "print(name)\n",
    "message = \"I love Python\"\n",
    "print(message)"
   ]
  },
  {
   "cell_type": "code",
   "execution_count": 8,
   "id": "f2fce03b-53c5-47a8-a24c-07281167efde",
   "metadata": {},
   "outputs": [
    {
     "name": "stdout",
     "output_type": "stream",
     "text": [
      "e\n"
     ]
    }
   ],
   "source": [
    "# Accessing string characters\n",
    "greet = 'hello'\n",
    "print(greet[1])"
   ]
  },
  {
   "cell_type": "code",
   "execution_count": 9,
   "id": "d2de5485-aaf5-45d3-9193-141abcdecb6f",
   "metadata": {},
   "outputs": [
    {
     "name": "stdout",
     "output_type": "stream",
     "text": [
      "o\n"
     ]
    }
   ],
   "source": [
    "# Negative indexing\n",
    "print(greet[-1])"
   ]
  },
  {
   "cell_type": "code",
   "execution_count": 10,
   "id": "beeb3c96-4f49-4ba1-87b8-e5dad4b7d6c9",
   "metadata": {},
   "outputs": [
    {
     "name": "stdout",
     "output_type": "stream",
     "text": [
      "A quick br\n"
     ]
    }
   ],
   "source": [
    "# accessing range of character\n",
    "sentence = 'A quick brown fox jumps over the lazy dog'\n",
    "print(sentence[0:10])"
   ]
  },
  {
   "cell_type": "code",
   "execution_count": 12,
   "id": "84922a14-e59b-4cc2-a1d6-85ca938227d0",
   "metadata": {},
   "outputs": [
    {
     "name": "stdout",
     "output_type": "stream",
     "text": [
      "Aqikbonfxjmsoe h ayd\n"
     ]
    }
   ],
   "source": [
    "print(sentence[0:40:2])"
   ]
  },
  {
   "cell_type": "code",
   "execution_count": 13,
   "id": "34bbaa94-4756-41ac-92e4-0f694089c584",
   "metadata": {},
   "outputs": [
    {
     "ename": "TypeError",
     "evalue": "'str' object does not support item assignment",
     "output_type": "error",
     "traceback": [
      "\u001b[0;31m---------------------------------------------------------------------------\u001b[0m",
      "\u001b[0;31mTypeError\u001b[0m                                 Traceback (most recent call last)",
      "Cell \u001b[0;32mIn[13], line 3\u001b[0m\n\u001b[1;32m      1\u001b[0m \u001b[38;5;66;03m# strings are immutable\u001b[39;00m\n\u001b[1;32m      2\u001b[0m message \u001b[38;5;241m=\u001b[39m \u001b[38;5;124m'\u001b[39m\u001b[38;5;124mHola Amigos\u001b[39m\u001b[38;5;124m'\u001b[39m\n\u001b[0;32m----> 3\u001b[0m \u001b[43mmessage\u001b[49m\u001b[43m[\u001b[49m\u001b[38;5;241;43m0\u001b[39;49m\u001b[43m]\u001b[49m\u001b[38;5;241m=\u001b[39m \u001b[38;5;124m'\u001b[39m\u001b[38;5;124me\u001b[39m\u001b[38;5;124m'\u001b[39m\n",
      "\u001b[0;31mTypeError\u001b[0m: 'str' object does not support item assignment"
     ]
    }
   ],
   "source": [
    "# strings are immutable\n",
    "message = 'Hola Amigos'\n",
    "message[0]= 'e'"
   ]
  },
  {
   "cell_type": "code",
   "execution_count": 15,
   "id": "a7db58b1-a397-463e-8b30-0cd43c4b148b",
   "metadata": {},
   "outputs": [
    {
     "name": "stdout",
     "output_type": "stream",
     "text": [
      "\n",
      "never gonna give you up\n",
      "never goona let you down\n",
      "\n"
     ]
    }
   ],
   "source": [
    "# multiline string\n",
    "message = \"\"\"\n",
    "never gonna give you up\n",
    "never goona let you down\n",
    "\"\"\"\n",
    "print(message)"
   ]
  },
  {
   "cell_type": "code",
   "execution_count": 16,
   "id": "607a6b14-95ef-4c6e-9688-c94ed2262fcf",
   "metadata": {},
   "outputs": [
    {
     "name": "stdout",
     "output_type": "stream",
     "text": [
      "False\n",
      "False\n",
      "True\n"
     ]
    }
   ],
   "source": [
    "# string comparison\n",
    "#compare if one string to another\n",
    "\n",
    "string1 = \"Hello world\"\n",
    "string2 = \"Hello space\"\n",
    "string3 = \"Hello universe\"\n",
    "string4 = \"Hello space\"\n",
    "\n",
    "print(string1 == string2)\n",
    "print(string3 == string1)\n",
    "print(string2 == string4)"
   ]
  },
  {
   "cell_type": "code",
   "execution_count": 17,
   "id": "361fe1f3-3e5e-4e19-a93f-4aee6cf39b9e",
   "metadata": {},
   "outputs": [
    {
     "name": "stdout",
     "output_type": "stream",
     "text": [
      "HelloOwais\n"
     ]
    }
   ],
   "source": [
    "# join two or more strings\n",
    "\n",
    "greet = 'Hello'\n",
    "name = 'Owais'\n",
    "\n",
    "print(greet+name)"
   ]
  },
  {
   "cell_type": "code",
   "execution_count": 19,
   "id": "89d382a2-777c-4245-99e0-f3130c995ee5",
   "metadata": {},
   "outputs": [
    {
     "name": "stdout",
     "output_type": "stream",
     "text": [
      "\n",
      "\n",
      "I\n",
      " \n",
      "a\n",
      "m\n",
      " \n",
      "g\n",
      "o\n",
      "i\n",
      "n\n",
      "g\n",
      " \n",
      "t\n",
      "o\n",
      " \n",
      "i\n",
      "t\n",
      "e\n",
      "r\n",
      "a\n",
      "t\n",
      "e\n",
      " \n",
      "t\n",
      "h\n",
      "r\n",
      "o\n",
      "u\n",
      "g\n",
      "h\n",
      " \n",
      "t\n",
      "h\n",
      "i\n",
      "s\n",
      " \n",
      "s\n",
      "t\n",
      "r\n",
      "i\n",
      "n\n",
      "g\n",
      " \n",
      "l\n",
      "e\n",
      "t\n",
      "t\n",
      "e\n",
      "r\n",
      " \n",
      "b\n",
      "y\n",
      " \n",
      "l\n",
      "e\n",
      "t\n",
      "t\n",
      "e\n",
      "r\n",
      "\n",
      "\n"
     ]
    }
   ],
   "source": [
    "# iterate through a string\n",
    "\n",
    "string =\"\"\"\n",
    "I am going to iterate through this string letter by letter\n",
    "\"\"\"\n",
    "\n",
    "for letter in string:\n",
    "    print(letter)"
   ]
  },
  {
   "cell_type": "code",
   "execution_count": 20,
   "id": "89a303ab-ec70-4c9d-9b91-d4644206328f",
   "metadata": {},
   "outputs": [
    {
     "data": {
      "text/plain": [
       "60"
      ]
     },
     "execution_count": 20,
     "metadata": {},
     "output_type": "execute_result"
    }
   ],
   "source": [
    "# string length\n",
    "\n",
    "len(string)"
   ]
  },
  {
   "cell_type": "code",
   "execution_count": 21,
   "id": "279cde6c-b4af-40ea-bd40-2e71c55b1bb1",
   "metadata": {},
   "outputs": [
    {
     "name": "stdout",
     "output_type": "stream",
     "text": [
      "False\n",
      "True\n",
      "False\n"
     ]
    }
   ],
   "source": [
    "# string membership test\n",
    "\n",
    "print('a' in 'Science')\n",
    "print('e' in 'Science')\n",
    "print('E' in 'Science')"
   ]
  },
  {
   "cell_type": "markdown",
   "id": "5e9f19dc-6559-43ae-9df3-fa255b0be7b4",
   "metadata": {},
   "source": [
    "# Methods of String"
   ]
  },
  {
   "cell_type": "code",
   "execution_count": 23,
   "id": "c798ecd3-dc0d-4bfd-9f4b-b5ae14cbc79c",
   "metadata": {},
   "outputs": [
    {
     "name": "stdout",
     "output_type": "stream",
     "text": [
      "THIS STRING IS IN LOWERCASE,\n",
      "BUT I AM GOING TO CONVERT IT TO UPPERCASE\n",
      "BY CALLING THE UPPER METHOD ON IT.\n",
      "\n"
     ]
    }
   ],
   "source": [
    "# upper\n",
    "string = \"\"\"this string is in lowercase,\n",
    "but i am going to convert it to uppercase\n",
    "by calling the upper method on it.\n",
    "\"\"\"\n",
    "\n",
    "print(string.upper())"
   ]
  },
  {
   "cell_type": "code",
   "execution_count": 32,
   "id": "0366d757-6773-4ebd-a865-fe643e3a493b",
   "metadata": {},
   "outputs": [
    {
     "name": "stdout",
     "output_type": "stream",
     "text": [
      "this string is in uppercase\n",
      "but i am going to convert it to lowercase\n",
      "by calling the lower method on it.\n",
      "\n"
     ]
    }
   ],
   "source": [
    "# lower\n",
    "string =\"\"\"THIS STRING IS IN UPPERCASE\n",
    "BUT I AM GOING TO CONVERT IT TO LOWERCASE\n",
    "BY CALLING THE LOWER METHOD ON IT.\n",
    "\"\"\"\n",
    "print(string.lower())"
   ]
  },
  {
   "cell_type": "code",
   "execution_count": 34,
   "id": "022f231d-5582-4098-b92e-eb0590d93dc4",
   "metadata": {},
   "outputs": [
    {
     "name": "stdout",
     "output_type": "stream",
     "text": [
      "('THIS', ' ', 'STRING IS IN UPPERCASE\\nBUT I AM GOING TO CONVERT IT TO LOWERCASE\\nBY CALLING THE LOWER METHOD ON IT.\\n')\n"
     ]
    }
   ],
   "source": [
    "# partition\n",
    "print(string.partition(' '))"
   ]
  },
  {
   "cell_type": "code",
   "execution_count": 36,
   "id": "c91d4bb7-aa37-45e8-b8d2-f3f22843c2b1",
   "metadata": {},
   "outputs": [
    {
     "name": "stdout",
     "output_type": "stream",
     "text": [
      "THIS PRING IS IN UPPERCASE\n",
      "BUT I AM GOING TO CONVERT IT TO LOWERCASE\n",
      "BY CALLING THE LOWER METHOD ON IT.\n",
      "\n"
     ]
    }
   ],
   "source": [
    "# replace\n",
    "print(string.replace('ST', 'P'))"
   ]
  },
  {
   "cell_type": "code",
   "execution_count": 38,
   "id": "44b18338-dddd-466c-a58b-7f87f7775ab2",
   "metadata": {},
   "outputs": [
    {
     "name": "stdout",
     "output_type": "stream",
     "text": [
      "5\n"
     ]
    }
   ],
   "source": [
    "# find\n",
    "print(string.find('STRING'))"
   ]
  },
  {
   "cell_type": "code",
   "execution_count": 41,
   "id": "c0b2200d-0ca5-4278-97de-e11c59e96444",
   "metadata": {},
   "outputs": [
    {
     "name": "stdout",
     "output_type": "stream",
     "text": [
      "11\n",
      "6\n"
     ]
    }
   ],
   "source": [
    "# rstrip\n",
    "this_string = \"Spaces     \"\n",
    "print(len(this_string))\n",
    "this_string = this_string.rstrip()\n",
    "print(len(this_string))"
   ]
  },
  {
   "cell_type": "code",
   "execution_count": 42,
   "id": "655af8d9-1813-4e5c-b58d-f0862b795549",
   "metadata": {},
   "outputs": [
    {
     "name": "stdout",
     "output_type": "stream",
     "text": [
      "15\n",
      "11\n"
     ]
    }
   ],
   "source": [
    "# lstrip\n",
    "this_string = \"    Spaces     \"\n",
    "print(len(this_string))\n",
    "this_string = this_string.lstrip()\n",
    "print(len(this_string))"
   ]
  },
  {
   "cell_type": "code",
   "execution_count": 44,
   "id": "3d5b85e7-4015-4fc4-87c1-973c07e5cb40",
   "metadata": {},
   "outputs": [
    {
     "name": "stdout",
     "output_type": "stream",
     "text": [
      "15\n",
      "6\n"
     ]
    }
   ],
   "source": [
    "# strip\n",
    "this_string = \"    Spaces     \"\n",
    "print(len(this_string))\n",
    "this_string = this_string.strip()\n",
    "print(len(this_string))"
   ]
  },
  {
   "cell_type": "code",
   "execution_count": 48,
   "id": "5b059273-4e6b-4194-8ba8-44f1daae2f35",
   "metadata": {},
   "outputs": [
    {
     "name": "stdout",
     "output_type": "stream",
     "text": [
      "True\n",
      "False\n",
      "False\n",
      "True\n"
     ]
    }
   ],
   "source": [
    "# startswith\n",
    "now_this_string = \"\"\"This string starts with the word 'This' not with the word 'That'\n",
    "And it does not end with the word 'This', is it?\"\"\"\n",
    "\n",
    "print(now_this_string.startswith('This'))\n",
    "print(now_this_string.startswith('That'))\n",
    "\n",
    "print(now_this_string.endswith('This'))\n",
    "print(now_this_string.endswith('it?'))"
   ]
  },
  {
   "cell_type": "code",
   "execution_count": 49,
   "id": "7fb3147b-f76e-42bb-815f-e71633922c4e",
   "metadata": {},
   "outputs": [
    {
     "name": "stdout",
     "output_type": "stream",
     "text": [
      "['This string will ', \" be split by the letter '\", \"'\"]\n"
     ]
    }
   ],
   "source": [
    "# split\n",
    "but_this_string = \"This string will / be split by the letter '/'\" \n",
    "\n",
    "print(but_this_string.split('/'))"
   ]
  },
  {
   "cell_type": "code",
   "execution_count": 52,
   "id": "86101f42-0ca8-483a-ac10-a11593afb239",
   "metadata": {},
   "outputs": [
    {
     "name": "stdout",
     "output_type": "stream",
     "text": [
      "False\n",
      "True\n",
      "False\n"
     ]
    }
   ],
   "source": [
    "# isnumeric\n",
    "also_this_string = \"Including numbers 1 2 and 3 in this string\"\n",
    "or_this_string = \"123\"\n",
    "even_this_string = \"1 2 3\"\n",
    "\n",
    "print(also_this_string.isnumeric())\n",
    "print(or_this_string.isnumeric())\n",
    "print(even_this_string.isnumeric())"
   ]
  },
  {
   "cell_type": "code",
   "execution_count": 55,
   "id": "87eee416-2b1c-4392-8ddd-18a2153c67fc",
   "metadata": {},
   "outputs": [
    {
     "name": "stdout",
     "output_type": "stream",
     "text": [
      "35\n",
      "35\n"
     ]
    }
   ],
   "source": [
    "# index\n",
    "either_this_string = \"Can anyone tell me the position of This word in this string?\"\n",
    "\n",
    "print(either_this_string.index('This word')) "
   ]
  },
  {
   "cell_type": "markdown",
   "id": "f32d0693-e132-458f-9022-a81e18ab3442",
   "metadata": {},
   "source": [
    "What is the difference between the find method and the index method?"
   ]
  },
  {
   "cell_type": "code",
   "execution_count": 58,
   "id": "aa1bcfe9-a853-45c6-b8f0-8029b2db317b",
   "metadata": {},
   "outputs": [
    {
     "name": "stdout",
     "output_type": "stream",
     "text": [
      "-1\n"
     ]
    }
   ],
   "source": [
    "print(either_this_string.find('That'))"
   ]
  },
  {
   "cell_type": "code",
   "execution_count": 59,
   "id": "f16f470e-b1ee-49ed-bc7a-8f4943baf691",
   "metadata": {},
   "outputs": [
    {
     "ename": "ValueError",
     "evalue": "substring not found",
     "output_type": "error",
     "traceback": [
      "\u001b[0;31m---------------------------------------------------------------------------\u001b[0m",
      "\u001b[0;31mValueError\u001b[0m                                Traceback (most recent call last)",
      "Cell \u001b[0;32mIn[59], line 1\u001b[0m\n\u001b[0;32m----> 1\u001b[0m \u001b[38;5;28mprint\u001b[39m(\u001b[43meither_this_string\u001b[49m\u001b[38;5;241;43m.\u001b[39;49m\u001b[43mindex\u001b[49m\u001b[43m(\u001b[49m\u001b[38;5;124;43m'\u001b[39;49m\u001b[38;5;124;43mThat\u001b[39;49m\u001b[38;5;124;43m'\u001b[39;49m\u001b[43m)\u001b[49m)\n",
      "\u001b[0;31mValueError\u001b[0m: substring not found"
     ]
    }
   ],
   "source": [
    "print(either_this_string.index('That'))"
   ]
  },
  {
   "cell_type": "code",
   "execution_count": null,
   "id": "2e24fa0f-1d8a-4b7c-a1ba-6f4fe6a6fc9f",
   "metadata": {},
   "outputs": [],
   "source": []
  }
 ],
 "metadata": {
  "kernelspec": {
   "display_name": "Python 3 (ipykernel)",
   "language": "python",
   "name": "python3"
  },
  "language_info": {
   "codemirror_mode": {
    "name": "ipython",
    "version": 3
   },
   "file_extension": ".py",
   "mimetype": "text/x-python",
   "name": "python",
   "nbconvert_exporter": "python",
   "pygments_lexer": "ipython3",
   "version": "3.10.8"
  }
 },
 "nbformat": 4,
 "nbformat_minor": 5
}
